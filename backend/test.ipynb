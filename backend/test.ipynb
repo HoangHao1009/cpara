{
 "cells": [
  {
   "cell_type": "code",
   "execution_count": 1,
   "metadata": {},
   "outputs": [],
   "source": [
    "import asyncio\n",
    "import nest_asyncio\n",
    "\n",
    "from engine.src_platform import QuestionPro\n",
    "from engine.survey import Survey\n",
    "\n",
    "nest_asyncio.apply()\n",
    "\n",
    "survey_id=\"12688491\"\n",
    "survey_id_2 = \"12032803\"\n",
    "\n",
    "questionpro = QuestionPro(survey_id=survey_id, api_key=\"61d15ae9-8995-4f6b-88ac-3a66e752a3cc\")\n",
    "survey = Survey(src_platform=questionpro)\n"
   ]
  },
  {
   "cell_type": "code",
   "execution_count": 4,
   "metadata": {},
   "outputs": [
    {
     "data": {
      "text/plain": [
       "[Question(code=Q6_1, text=Test Matrix TEXT_MTRow1, type=text_matrix, num_answers=2),\n",
       " Question(code=Q6_2, text=Test Matrix TEXT_MTRow2, type=text_matrix, num_answers=2),\n",
       " Question(code=Q5_1, text=Test MA Matrix_MAMA-Row1, type=ma_matrix, num_answers=2),\n",
       " Question(code=Q5_2, text=Test MA Matrix_MAMA-Row2, type=ma_matrix, num_answers=2),\n",
       " Question(code=Q4_1, text=Test SA Matrix_SAMA-Row1, type=sa_matrix, num_answers=2),\n",
       " Question(code=Q4_2, text=Test SA Matrix_SAMA-Row2, type=sa_matrix, num_answers=2),\n",
       " Question(code=Q2, text=Test MA, type=ma, num_answers=5),\n",
       " Question(code=Q1, text=Test SA, type=sa, num_answers=4),\n",
       " Question(code=Q3_1T1, text=_Test Text Q3 1_, type=text, num_answers=2),\n",
       " Question(code=Q3_2T1, text=_Test Text Q3 2_, type=text, num_answers=2),\n",
       " Question(code=Q6_1T1, text=Test Matrix TEXT_MTRow1_MTCol1, type=text, num_answers=2),\n",
       " Question(code=Q6_1T2, text=Test Matrix TEXT_MTRow1_MTCol2, type=text, num_answers=2),\n",
       " Question(code=Q6_2T1, text=Test Matrix TEXT_MTRow2_MTCol1, type=text, num_answers=2),\n",
       " Question(code=Q6_2T2, text=Test Matrix TEXT_MTRow2_MTCol2, type=text, num_answers=2)]"
      ]
     },
     "execution_count": 4,
     "metadata": {},
     "output_type": "execute_result"
    }
   ],
   "source": [
    "survey.questions"
   ]
  },
  {
   "cell_type": "code",
   "execution_count": null,
   "metadata": {},
   "outputs": [],
   "source": []
  }
 ],
 "metadata": {
  "kernelspec": {
   "display_name": "base",
   "language": "python",
   "name": "python3"
  },
  "language_info": {
   "codemirror_mode": {
    "name": "ipython",
    "version": 3
   },
   "file_extension": ".py",
   "mimetype": "text/x-python",
   "name": "python",
   "nbconvert_exporter": "python",
   "pygments_lexer": "ipython3",
   "version": "3.11.7"
  }
 },
 "nbformat": 4,
 "nbformat_minor": 2
}
